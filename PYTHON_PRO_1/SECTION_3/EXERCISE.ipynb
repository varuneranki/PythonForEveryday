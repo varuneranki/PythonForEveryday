{
 "cells": [
  {
   "cell_type": "markdown",
   "metadata": {},
   "source": [
    "TASK1"
   ]
  },
  {
   "cell_type": "code",
   "execution_count": 33,
   "metadata": {
    "scrolled": true
   },
   "outputs": [
    {
     "data": {
      "text/plain": [
       "77"
      ]
     },
     "execution_count": 33,
     "metadata": {},
     "output_type": "execute_result"
    }
   ],
   "source": [
    "toys = {\"robot\": \"$40.0\", \"car\": \"$25\", \"ironman\": \"$12\"}\n",
    "a= list(toys.values())\n",
    "\n",
    "#LIST SPLICING\n",
    "eval(a[0][1:3])+eval(a[1][1:3])+eval(a[2][1:3])\n",
    "\n",
    "\n",
    "#USING LOOPS\n",
    "#b=0\n",
    "# for i in range (0,len(a)):\n",
    "#     a[i] = a[i].replace(\"$\",\"\")\n",
    "#     b = b + int(eval(a[i]))\n",
    "#b\n"
   ]
  },
  {
   "cell_type": "markdown",
   "metadata": {},
   "source": [
    "TASK2"
   ]
  },
  {
   "cell_type": "code",
   "execution_count": 41,
   "metadata": {},
   "outputs": [
    {
     "data": {
      "text/plain": [
       "[True, True, False, True, False]"
      ]
     },
     "execution_count": 41,
     "metadata": {},
     "output_type": "execute_result"
    }
   ],
   "source": [
    "questions = [10 != 4, 50 == 50, 90 == 10, \"c\" in (\"a\", \"b\", \"c\"), 100 != 100]\n",
    "questions"
   ]
  },
  {
   "cell_type": "markdown",
   "metadata": {},
   "source": [
    "TASK3"
   ]
  },
  {
   "cell_type": "code",
   "execution_count": 69,
   "metadata": {},
   "outputs": [
    {
     "data": {
      "text/plain": [
       "False"
      ]
     },
     "execution_count": 69,
     "metadata": {},
     "output_type": "execute_result"
    }
   ],
   "source": [
    "films = {\"k1\": \"blade runner 2049\", \"k2\": \"matrix\", \"k3\": \"terminator\"}\n",
    "\n",
    "len(tuple(films.values())[0]) < len(tuple(films.values())[1]) > len(tuple(films.values())[2])\n",
    "\n",
    "#DID NOT UNDERSTAND THE QUESTION"
   ]
  },
  {
   "cell_type": "markdown",
   "metadata": {},
   "source": [
    "TASK4"
   ]
  },
  {
   "cell_type": "code",
   "execution_count": 73,
   "metadata": {
    "scrolled": true
   },
   "outputs": [
    {
     "data": {
      "text/plain": [
       "{0: 'embryo',\n",
       " 1: 'fetus',\n",
       " 2: 'baby',\n",
       " 3: 'infant',\n",
       " 4: 'teen',\n",
       " 5: 'adult',\n",
       " 6: 'big kid!'}"
      ]
     },
     "execution_count": 73,
     "metadata": {},
     "output_type": "execute_result"
    }
   ],
   "source": [
    "life_stages = {0: \"embryo\", 1: \"fetus\", 2:\"baby\", 3:\"infant\", 4: \"teen\"}\n",
    "midlife = {5: \"adult\", 6: \"big kid!\"}\n",
    "life_stages.update(midlife)\n",
    "life_stages\n",
    "\n"
   ]
  },
  {
   "cell_type": "markdown",
   "metadata": {},
   "source": [
    "TASK5"
   ]
  },
  {
   "cell_type": "code",
   "execution_count": 96,
   "metadata": {},
   "outputs": [
    {
     "data": {
      "text/plain": [
       "833.0"
      ]
     },
     "execution_count": 96,
     "metadata": {},
     "output_type": "execute_result"
    }
   ],
   "source": [
    "nest1 = [(1,2,3), {\"k1\": [8, 1, 300, 2, 77], \"k2\": [10,20,30]}, [\"a\", \"500\", \"c\"]]\n",
    "\n",
    "float(nest1[0][2]+sorted(nest1[1][\"k1\"])[-1]+nest1[1][\"k2\"][2]+eval(nest1[2][1]))\n",
    "\n"
   ]
  },
  {
   "cell_type": "markdown",
   "metadata": {},
   "source": [
    "TASK6"
   ]
  },
  {
   "cell_type": "code",
   "execution_count": 128,
   "metadata": {},
   "outputs": [
    {
     "name": "stdout",
     "output_type": "stream",
     "text": [
      "prices = [\"9\", \"FOUR\", \"2.5\"]\n",
      "The bill for the pizza, chips and drink came to $15.5\n"
     ]
    }
   ],
   "source": [
    "prices = [\"a\", \"b\", \"9\", \"c\", \"d\", \"FOUR\", \"e\", \"f\", \"2.5\"]\n",
    "\n",
    "price = \"prices = [\\\"\"+prices[2]+\"\\\", \\\"\"+prices[5]+\"\\\", \\\"\"+prices[-1]+\"\\\"]\"\n",
    "print(price)\n",
    "\n",
    "sentence = \"\"\"The bill for the {}#!/,?? {}#!/ ??and drink came to {}??\"\"\"\n",
    "\n",
    "food = [\"pizza\", \"chips\", \"$15.5\"]\n",
    "sentence = sentence.replace(\"#!/\",\"\").replace(\"??\",\"\")\n",
    "sentence = sentence.format(food[0], food[1], food[2])\n",
    "print(sentence)"
   ]
  }
 ],
 "metadata": {
  "kernelspec": {
   "display_name": "Python 3",
   "language": "python",
   "name": "python3"
  },
  "language_info": {
   "codemirror_mode": {
    "name": "ipython",
    "version": 3
   },
   "file_extension": ".py",
   "mimetype": "text/x-python",
   "name": "python",
   "nbconvert_exporter": "python",
   "pygments_lexer": "ipython3",
   "version": "3.8.5"
  }
 },
 "nbformat": 4,
 "nbformat_minor": 4
}
