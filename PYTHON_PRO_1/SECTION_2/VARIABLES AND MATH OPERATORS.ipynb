{
 "cells": [
  {
   "cell_type": "code",
   "execution_count": 23,
   "metadata": {},
   "outputs": [
    {
     "name": "stdout",
     "output_type": "stream",
     "text": [
      "120\n",
      "80\n",
      "5.0\n",
      "5\n",
      "2000\n",
      "10000000000000000000000000000000000000000\n",
      "0\n"
     ]
    }
   ],
   "source": [
    "print(100 + 20)  #add\n",
    "print(100 - 20)  #sub\n",
    "print(100 / 20)  #div\n",
    "print(100 // 20) #floor div\n",
    "print(100 * 20)  #multi\n",
    "print(100 ** 20) #power\n",
    "print(100 % 20)  #mod\n"
   ]
  },
  {
   "cell_type": "code",
   "execution_count": 24,
   "metadata": {},
   "outputs": [
    {
     "data": {
      "text/plain": [
       "0"
      ]
     },
     "execution_count": 24,
     "metadata": {},
     "output_type": "execute_result"
    }
   ],
   "source": [
    "100 + 20 #add\n",
    "100 - 20 #sub\n",
    "100 / 20 #div\n",
    "100 // 20 #floor div\n",
    "100 * 20 #multi\n",
    "100 ** 20 #power\n",
    "100 % 20 #mod\n",
    "\n",
    "#this result will be zero\n",
    "#since last line will be printed and rest ignored\n",
    "#this is a sys out to print and not standard print()"
   ]
  },
  {
   "cell_type": "code",
   "execution_count": 25,
   "metadata": {},
   "outputs": [
    {
     "name": "stdout",
     "output_type": "stream",
     "text": [
      "120\n",
      "80\n",
      "5.0\n",
      "5\n",
      "2000\n",
      "10000000000000000000000000000000000000000\n",
      "0\n"
     ]
    }
   ],
   "source": [
    "#use of var\n",
    "#var a=100, b=20;  #invalid syntax since python 2.x\n",
    "a,b = 100,20  #new syntax for python3.x\n",
    "print(a + b)  #add\n",
    "print(a - b)  #sub\n",
    "print(a / b)  #div\n",
    "print(a // b) #floor div\n",
    "print(a * b)  #multi\n",
    "print(a ** b) #power\n",
    "print(a % b)  #mod"
   ]
  },
  {
   "cell_type": "code",
   "execution_count": 26,
   "metadata": {},
   "outputs": [
    {
     "name": "stdout",
     "output_type": "stream",
     "text": [
      "<class 'int'>\n",
      "<class 'float'>\n",
      "<class 'float'>\n",
      "<class 'int'>\n"
     ]
    }
   ],
   "source": [
    "x,y=10,10.0\n",
    "a = type(x)\n",
    "print(a)\n",
    "a = type(y)\n",
    "print(a)\n",
    "\n",
    "x_float = float(x)\n",
    "y_int = int(y)\n",
    "a = type(x_float)\n",
    "print(a)\n",
    "a = type(y_int)\n",
    "print(a)\n"
   ]
  },
  {
   "cell_type": "code",
   "execution_count": null,
   "metadata": {},
   "outputs": [],
   "source": []
  }
 ],
 "metadata": {
  "kernelspec": {
   "display_name": "Python 3",
   "language": "python",
   "name": "python3"
  },
  "language_info": {
   "codemirror_mode": {
    "name": "ipython",
    "version": 3
   },
   "file_extension": ".py",
   "mimetype": "text/x-python",
   "name": "python",
   "nbconvert_exporter": "python",
   "pygments_lexer": "ipython3",
   "version": "3.8.5"
  }
 },
 "nbformat": 4,
 "nbformat_minor": 4
}
